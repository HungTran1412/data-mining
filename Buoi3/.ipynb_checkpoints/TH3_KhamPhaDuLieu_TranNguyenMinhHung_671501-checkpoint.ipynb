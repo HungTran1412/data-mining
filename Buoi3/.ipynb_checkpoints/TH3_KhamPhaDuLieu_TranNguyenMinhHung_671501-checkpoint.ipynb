{
 "cells": [
  {
   "cell_type": "code",
   "execution_count": 1,
   "id": "c8993e55-430e-449e-a9c9-4145b58b26aa",
   "metadata": {},
   "outputs": [],
   "source": [
    "#import \n",
    "import pandas as pd\n",
    "import numpy as np\n",
    "import matplotlib.pyplot as plt"
   ]
  },
  {
   "cell_type": "markdown",
   "id": "7be42af4-9779-4a0c-8d67-8dc0ad6c3ad7",
   "metadata": {},
   "source": [
    "# I. Bài thực hành 3"
   ]
  },
  {
   "cell_type": "markdown",
   "id": "81792420-b560-4da0-9206-ca6ced0e7d51",
   "metadata": {},
   "source": [
    "# 1. Read data"
   ]
  },
  {
   "cell_type": "code",
   "execution_count": 10,
   "id": "a0de64a3-ffd4-448b-895a-4c3e87e3dd65",
   "metadata": {},
   "outputs": [
    {
     "data": {
      "text/html": [
       "<div>\n",
       "<style scoped>\n",
       "    .dataframe tbody tr th:only-of-type {\n",
       "        vertical-align: middle;\n",
       "    }\n",
       "\n",
       "    .dataframe tbody tr th {\n",
       "        vertical-align: top;\n",
       "    }\n",
       "\n",
       "    .dataframe thead th {\n",
       "        text-align: right;\n",
       "    }\n",
       "</style>\n",
       "<table border=\"1\" class=\"dataframe\">\n",
       "  <thead>\n",
       "    <tr style=\"text-align: right;\">\n",
       "      <th></th>\n",
       "      <th>Brand</th>\n",
       "      <th>Model</th>\n",
       "      <th>Year</th>\n",
       "      <th>Transmission</th>\n",
       "      <th>Fuel_Type</th>\n",
       "      <th>Mileage</th>\n",
       "      <th>Doors</th>\n",
       "      <th>Price</th>\n",
       "    </tr>\n",
       "  </thead>\n",
       "  <tbody>\n",
       "    <tr>\n",
       "      <th>0</th>\n",
       "      <td>Kia</td>\n",
       "      <td>Rio</td>\n",
       "      <td>2020</td>\n",
       "      <td>Manual</td>\n",
       "      <td>Diesel</td>\n",
       "      <td>NaN</td>\n",
       "      <td>3</td>\n",
       "      <td>8501.0</td>\n",
       "    </tr>\n",
       "    <tr>\n",
       "      <th>1</th>\n",
       "      <td>Chevrolet</td>\n",
       "      <td>Malibu</td>\n",
       "      <td>2012</td>\n",
       "      <td>Automatic</td>\n",
       "      <td>?</td>\n",
       "      <td>5356.0</td>\n",
       "      <td>2</td>\n",
       "      <td>NaN</td>\n",
       "    </tr>\n",
       "    <tr>\n",
       "      <th>2</th>\n",
       "      <td>Mercedes</td>\n",
       "      <td>GLA</td>\n",
       "      <td>2020</td>\n",
       "      <td>Automatic</td>\n",
       "      <td>Diesel</td>\n",
       "      <td>231440.0</td>\n",
       "      <td>4</td>\n",
       "      <td>11171.0</td>\n",
       "    </tr>\n",
       "    <tr>\n",
       "      <th>3</th>\n",
       "      <td>Audi</td>\n",
       "      <td>Q5</td>\n",
       "      <td>2023</td>\n",
       "      <td>Manual</td>\n",
       "      <td>Electric</td>\n",
       "      <td>NaN</td>\n",
       "      <td>2</td>\n",
       "      <td>11780.0</td>\n",
       "    </tr>\n",
       "    <tr>\n",
       "      <th>4</th>\n",
       "      <td>Volkswagen</td>\n",
       "      <td>Golf</td>\n",
       "      <td>2003</td>\n",
       "      <td>Semi-Automatic</td>\n",
       "      <td>Hybrid</td>\n",
       "      <td>286618.0</td>\n",
       "      <td>3</td>\n",
       "      <td>2867.0</td>\n",
       "    </tr>\n",
       "    <tr>\n",
       "      <th>...</th>\n",
       "      <td>...</td>\n",
       "      <td>...</td>\n",
       "      <td>...</td>\n",
       "      <td>...</td>\n",
       "      <td>...</td>\n",
       "      <td>...</td>\n",
       "      <td>...</td>\n",
       "      <td>...</td>\n",
       "    </tr>\n",
       "    <tr>\n",
       "      <th>9997</th>\n",
       "      <td>Kia</td>\n",
       "      <td>Optima</td>\n",
       "      <td>2004</td>\n",
       "      <td>Semi-Automatic</td>\n",
       "      <td>Diesel</td>\n",
       "      <td>5794.0</td>\n",
       "      <td>2</td>\n",
       "      <td>8884.0</td>\n",
       "    </tr>\n",
       "    <tr>\n",
       "      <th>9998</th>\n",
       "      <td>Chevrolet</td>\n",
       "      <td>Impala</td>\n",
       "      <td>2002</td>\n",
       "      <td>Automatic</td>\n",
       "      <td>Electric</td>\n",
       "      <td>168000.0</td>\n",
       "      <td>2</td>\n",
       "      <td>6240.0</td>\n",
       "    </tr>\n",
       "    <tr>\n",
       "      <th>9999</th>\n",
       "      <td>BMW</td>\n",
       "      <td>3 Series</td>\n",
       "      <td>2010</td>\n",
       "      <td>Automatic</td>\n",
       "      <td>Petrol</td>\n",
       "      <td>86664.0</td>\n",
       "      <td>5</td>\n",
       "      <td>9866.0</td>\n",
       "    </tr>\n",
       "    <tr>\n",
       "      <th>10000</th>\n",
       "      <td>Ford</td>\n",
       "      <td>Explorer</td>\n",
       "      <td>2002</td>\n",
       "      <td>Automatic</td>\n",
       "      <td>Hybrid</td>\n",
       "      <td>225772.0</td>\n",
       "      <td>4</td>\n",
       "      <td>4084.0</td>\n",
       "    </tr>\n",
       "    <tr>\n",
       "      <th>10001</th>\n",
       "      <td>Volkswagen</td>\n",
       "      <td>Tiguan</td>\n",
       "      <td>2001</td>\n",
       "      <td>Manual</td>\n",
       "      <td>Diesel</td>\n",
       "      <td>157882.0</td>\n",
       "      <td>3</td>\n",
       "      <td>3342.0</td>\n",
       "    </tr>\n",
       "  </tbody>\n",
       "</table>\n",
       "<p>10002 rows × 8 columns</p>\n",
       "</div>"
      ],
      "text/plain": [
       "            Brand     Model  Year    Transmission Fuel_Type   Mileage  Doors  \\\n",
       "0             Kia       Rio  2020          Manual    Diesel       NaN      3   \n",
       "1       Chevrolet    Malibu  2012       Automatic         ?    5356.0      2   \n",
       "2        Mercedes       GLA  2020       Automatic    Diesel  231440.0      4   \n",
       "3            Audi        Q5  2023          Manual  Electric       NaN      2   \n",
       "4      Volkswagen      Golf  2003  Semi-Automatic    Hybrid  286618.0      3   \n",
       "...           ...       ...   ...             ...       ...       ...    ...   \n",
       "9997          Kia    Optima  2004  Semi-Automatic    Diesel    5794.0      2   \n",
       "9998    Chevrolet    Impala  2002       Automatic  Electric  168000.0      2   \n",
       "9999          BMW  3 Series  2010       Automatic    Petrol   86664.0      5   \n",
       "10000        Ford  Explorer  2002       Automatic    Hybrid  225772.0      4   \n",
       "10001  Volkswagen    Tiguan  2001          Manual    Diesel  157882.0      3   \n",
       "\n",
       "         Price  \n",
       "0       8501.0  \n",
       "1          NaN  \n",
       "2      11171.0  \n",
       "3      11780.0  \n",
       "4       2867.0  \n",
       "...        ...  \n",
       "9997    8884.0  \n",
       "9998    6240.0  \n",
       "9999    9866.0  \n",
       "10000   4084.0  \n",
       "10001   3342.0  \n",
       "\n",
       "[10002 rows x 8 columns]"
      ]
     },
     "execution_count": 10,
     "metadata": {},
     "output_type": "execute_result"
    }
   ],
   "source": [
    "df = pd.read_excel('CAR_DATA.xlsx')\n",
    "df"
   ]
  },
  {
   "cell_type": "markdown",
   "id": "77ccaaf7-1ea7-4359-84ae-b1fc9dc71767",
   "metadata": {},
   "source": [
    "# 2. Data processing"
   ]
  },
  {
   "cell_type": "code",
   "execution_count": 41,
   "id": "427dce0c-fcff-443c-833a-da72cfa6ce28",
   "metadata": {},
   "outputs": [
    {
     "data": {
      "text/plain": [
       "array(['Kia', 'Chevrolet', 'Mercedes', 'Audi', 'Volkswagen', 'Toyota',\n",
       "       'Honda', 'BMW', 'Hyundai', 'Ford', 'Porsche'], dtype=object)"
      ]
     },
     "execution_count": 41,
     "metadata": {},
     "output_type": "execute_result"
    }
   ],
   "source": [
    "#lấy ra tất cả các brand \n",
    "df['Brand'].unique()"
   ]
  },
  {
   "cell_type": "code",
   "execution_count": 14,
   "id": "6c10efa0-b6dd-40a1-b2c2-f935d290bfa0",
   "metadata": {},
   "outputs": [
    {
     "data": {
      "text/plain": [
       "dtype('O')"
      ]
     },
     "execution_count": 14,
     "metadata": {},
     "output_type": "execute_result"
    }
   ],
   "source": [
    "#xem kiểu dữ liệu\n",
    "df['Brand'].dtype"
   ]
  },
  {
   "cell_type": "code",
   "execution_count": 18,
   "id": "8b776f95-471f-4975-bb31-95b394c7af99",
   "metadata": {},
   "outputs": [
    {
     "data": {
      "text/html": [
       "<div>\n",
       "<style scoped>\n",
       "    .dataframe tbody tr th:only-of-type {\n",
       "        vertical-align: middle;\n",
       "    }\n",
       "\n",
       "    .dataframe tbody tr th {\n",
       "        vertical-align: top;\n",
       "    }\n",
       "\n",
       "    .dataframe thead th {\n",
       "        text-align: right;\n",
       "    }\n",
       "</style>\n",
       "<table border=\"1\" class=\"dataframe\">\n",
       "  <thead>\n",
       "    <tr style=\"text-align: right;\">\n",
       "      <th></th>\n",
       "      <th>Brand</th>\n",
       "      <th>Model</th>\n",
       "      <th>Year</th>\n",
       "      <th>Transmission</th>\n",
       "      <th>Fuel_Type</th>\n",
       "      <th>Mileage</th>\n",
       "      <th>Doors</th>\n",
       "      <th>Price</th>\n",
       "    </tr>\n",
       "  </thead>\n",
       "  <tbody>\n",
       "    <tr>\n",
       "      <th>0</th>\n",
       "      <td>Kia</td>\n",
       "      <td>Rio</td>\n",
       "      <td>2020</td>\n",
       "      <td>Manual</td>\n",
       "      <td>Diesel</td>\n",
       "      <td>NaN</td>\n",
       "      <td>3</td>\n",
       "      <td>8501.0</td>\n",
       "    </tr>\n",
       "    <tr>\n",
       "      <th>1</th>\n",
       "      <td>Chevrolet</td>\n",
       "      <td>Malibu</td>\n",
       "      <td>2012</td>\n",
       "      <td>Automatic</td>\n",
       "      <td>?</td>\n",
       "      <td>5356.0</td>\n",
       "      <td>2</td>\n",
       "      <td>NaN</td>\n",
       "    </tr>\n",
       "    <tr>\n",
       "      <th>2</th>\n",
       "      <td>Mercedes</td>\n",
       "      <td>GLA</td>\n",
       "      <td>2020</td>\n",
       "      <td>Automatic</td>\n",
       "      <td>Diesel</td>\n",
       "      <td>231440.0</td>\n",
       "      <td>4</td>\n",
       "      <td>11171.0</td>\n",
       "    </tr>\n",
       "    <tr>\n",
       "      <th>3</th>\n",
       "      <td>Audi</td>\n",
       "      <td>Q5</td>\n",
       "      <td>2023</td>\n",
       "      <td>Manual</td>\n",
       "      <td>Electric</td>\n",
       "      <td>NaN</td>\n",
       "      <td>2</td>\n",
       "      <td>11780.0</td>\n",
       "    </tr>\n",
       "    <tr>\n",
       "      <th>4</th>\n",
       "      <td>Volkswagen</td>\n",
       "      <td>Golf</td>\n",
       "      <td>2003</td>\n",
       "      <td>Semi-Automatic</td>\n",
       "      <td>Hybrid</td>\n",
       "      <td>286618.0</td>\n",
       "      <td>3</td>\n",
       "      <td>2867.0</td>\n",
       "    </tr>\n",
       "    <tr>\n",
       "      <th>...</th>\n",
       "      <td>...</td>\n",
       "      <td>...</td>\n",
       "      <td>...</td>\n",
       "      <td>...</td>\n",
       "      <td>...</td>\n",
       "      <td>...</td>\n",
       "      <td>...</td>\n",
       "      <td>...</td>\n",
       "    </tr>\n",
       "    <tr>\n",
       "      <th>9997</th>\n",
       "      <td>Kia</td>\n",
       "      <td>Optima</td>\n",
       "      <td>2004</td>\n",
       "      <td>Semi-Automatic</td>\n",
       "      <td>Diesel</td>\n",
       "      <td>5794.0</td>\n",
       "      <td>2</td>\n",
       "      <td>8884.0</td>\n",
       "    </tr>\n",
       "    <tr>\n",
       "      <th>9998</th>\n",
       "      <td>Chevrolet</td>\n",
       "      <td>Impala</td>\n",
       "      <td>2002</td>\n",
       "      <td>Automatic</td>\n",
       "      <td>Electric</td>\n",
       "      <td>168000.0</td>\n",
       "      <td>2</td>\n",
       "      <td>6240.0</td>\n",
       "    </tr>\n",
       "    <tr>\n",
       "      <th>9999</th>\n",
       "      <td>BMW</td>\n",
       "      <td>3 Series</td>\n",
       "      <td>2010</td>\n",
       "      <td>Automatic</td>\n",
       "      <td>Petrol</td>\n",
       "      <td>86664.0</td>\n",
       "      <td>5</td>\n",
       "      <td>9866.0</td>\n",
       "    </tr>\n",
       "    <tr>\n",
       "      <th>10000</th>\n",
       "      <td>Ford</td>\n",
       "      <td>Explorer</td>\n",
       "      <td>2002</td>\n",
       "      <td>Automatic</td>\n",
       "      <td>Hybrid</td>\n",
       "      <td>225772.0</td>\n",
       "      <td>4</td>\n",
       "      <td>4084.0</td>\n",
       "    </tr>\n",
       "    <tr>\n",
       "      <th>10001</th>\n",
       "      <td>Volkswagen</td>\n",
       "      <td>Tiguan</td>\n",
       "      <td>2001</td>\n",
       "      <td>Manual</td>\n",
       "      <td>Diesel</td>\n",
       "      <td>157882.0</td>\n",
       "      <td>3</td>\n",
       "      <td>3342.0</td>\n",
       "    </tr>\n",
       "  </tbody>\n",
       "</table>\n",
       "<p>10002 rows × 8 columns</p>\n",
       "</div>"
      ],
      "text/plain": [
       "            Brand     Model  Year    Transmission Fuel_Type   Mileage  Doors  \\\n",
       "0             Kia       Rio  2020          Manual    Diesel       NaN      3   \n",
       "1       Chevrolet    Malibu  2012       Automatic         ?    5356.0      2   \n",
       "2        Mercedes       GLA  2020       Automatic    Diesel  231440.0      4   \n",
       "3            Audi        Q5  2023          Manual  Electric       NaN      2   \n",
       "4      Volkswagen      Golf  2003  Semi-Automatic    Hybrid  286618.0      3   \n",
       "...           ...       ...   ...             ...       ...       ...    ...   \n",
       "9997          Kia    Optima  2004  Semi-Automatic    Diesel    5794.0      2   \n",
       "9998    Chevrolet    Impala  2002       Automatic  Electric  168000.0      2   \n",
       "9999          BMW  3 Series  2010       Automatic    Petrol   86664.0      5   \n",
       "10000        Ford  Explorer  2002       Automatic    Hybrid  225772.0      4   \n",
       "10001  Volkswagen    Tiguan  2001          Manual    Diesel  157882.0      3   \n",
       "\n",
       "         Price  \n",
       "0       8501.0  \n",
       "1          NaN  \n",
       "2      11171.0  \n",
       "3      11780.0  \n",
       "4       2867.0  \n",
       "...        ...  \n",
       "9997    8884.0  \n",
       "9998    6240.0  \n",
       "9999    9866.0  \n",
       "10000   4084.0  \n",
       "10001   3342.0  \n",
       "\n",
       "[10002 rows x 8 columns]"
      ]
     },
     "execution_count": 18,
     "metadata": {},
     "output_type": "execute_result"
    }
   ],
   "source": [
    "#Thay thế tên rỗng hoặc ? thành Porsche\n",
    "df['Brand'].replace(['?', np.nan], ['Porsche','Porsche'])\n",
    "df"
   ]
  },
  {
   "cell_type": "code",
   "execution_count": 20,
   "id": "08bce73a-52cd-4757-82ff-b78fa9b07029",
   "metadata": {},
   "outputs": [
    {
     "data": {
      "text/plain": [
       "array(['Rio', 'Malibu', 'GLA', 'Q5', 'Golf', 'Camry', 'Civic', 'Sportage',\n",
       "       'RAV4', '5 Series', 'CR-V', 'Elantra', 'Tiguan', 'Equinox',\n",
       "       'Explorer', 'A3', '3 Series', 'Tucson', 'Passat', 'Impala',\n",
       "       'Corolla', 'Optima', 'Fiesta', 'A4', 'Focus', 'E-Class', 'Sonata',\n",
       "       'C-Class', 'X5', nan, 'Accord', 'Macan', 'Cayene', '918 Spider',\n",
       "       '?', '911 Carrera'], dtype=object)"
      ]
     },
     "execution_count": 20,
     "metadata": {},
     "output_type": "execute_result"
    }
   ],
   "source": [
    "#Lọc các model\n",
    "df['Model'].unique()"
   ]
  },
  {
   "cell_type": "code",
   "execution_count": 39,
   "id": "ed49eac5-48ae-4683-a645-bcc9d99b9a0b",
   "metadata": {},
   "outputs": [
    {
     "data": {
      "text/html": [
       "<div>\n",
       "<style scoped>\n",
       "    .dataframe tbody tr th:only-of-type {\n",
       "        vertical-align: middle;\n",
       "    }\n",
       "\n",
       "    .dataframe tbody tr th {\n",
       "        vertical-align: top;\n",
       "    }\n",
       "\n",
       "    .dataframe thead th {\n",
       "        text-align: right;\n",
       "    }\n",
       "</style>\n",
       "<table border=\"1\" class=\"dataframe\">\n",
       "  <thead>\n",
       "    <tr style=\"text-align: right;\">\n",
       "      <th></th>\n",
       "      <th>Brand</th>\n",
       "      <th>Model</th>\n",
       "      <th>Year</th>\n",
       "      <th>Transmission</th>\n",
       "      <th>Fuel_Type</th>\n",
       "      <th>Mileage</th>\n",
       "      <th>Doors</th>\n",
       "      <th>Price</th>\n",
       "    </tr>\n",
       "  </thead>\n",
       "  <tbody>\n",
       "    <tr>\n",
       "      <th>0</th>\n",
       "      <td>Kia</td>\n",
       "      <td>Rio</td>\n",
       "      <td>2020</td>\n",
       "      <td>Manual</td>\n",
       "      <td>Diesel</td>\n",
       "      <td>NaN</td>\n",
       "      <td>3</td>\n",
       "      <td>8501.0</td>\n",
       "    </tr>\n",
       "    <tr>\n",
       "      <th>1</th>\n",
       "      <td>Chevrolet</td>\n",
       "      <td>Malibu</td>\n",
       "      <td>2012</td>\n",
       "      <td>Automatic</td>\n",
       "      <td>?</td>\n",
       "      <td>5356.0</td>\n",
       "      <td>2</td>\n",
       "      <td>NaN</td>\n",
       "    </tr>\n",
       "    <tr>\n",
       "      <th>2</th>\n",
       "      <td>Mercedes</td>\n",
       "      <td>GLA</td>\n",
       "      <td>2020</td>\n",
       "      <td>Automatic</td>\n",
       "      <td>Diesel</td>\n",
       "      <td>231440.0</td>\n",
       "      <td>4</td>\n",
       "      <td>11171.0</td>\n",
       "    </tr>\n",
       "    <tr>\n",
       "      <th>3</th>\n",
       "      <td>Audi</td>\n",
       "      <td>Q5</td>\n",
       "      <td>2023</td>\n",
       "      <td>Manual</td>\n",
       "      <td>Electric</td>\n",
       "      <td>NaN</td>\n",
       "      <td>2</td>\n",
       "      <td>11780.0</td>\n",
       "    </tr>\n",
       "    <tr>\n",
       "      <th>4</th>\n",
       "      <td>Volkswagen</td>\n",
       "      <td>Golf</td>\n",
       "      <td>2003</td>\n",
       "      <td>Semi-Automatic</td>\n",
       "      <td>Hybrid</td>\n",
       "      <td>286618.0</td>\n",
       "      <td>3</td>\n",
       "      <td>2867.0</td>\n",
       "    </tr>\n",
       "    <tr>\n",
       "      <th>...</th>\n",
       "      <td>...</td>\n",
       "      <td>...</td>\n",
       "      <td>...</td>\n",
       "      <td>...</td>\n",
       "      <td>...</td>\n",
       "      <td>...</td>\n",
       "      <td>...</td>\n",
       "      <td>...</td>\n",
       "    </tr>\n",
       "    <tr>\n",
       "      <th>9997</th>\n",
       "      <td>Kia</td>\n",
       "      <td>Optima</td>\n",
       "      <td>2004</td>\n",
       "      <td>Semi-Automatic</td>\n",
       "      <td>Diesel</td>\n",
       "      <td>5794.0</td>\n",
       "      <td>2</td>\n",
       "      <td>8884.0</td>\n",
       "    </tr>\n",
       "    <tr>\n",
       "      <th>9998</th>\n",
       "      <td>Chevrolet</td>\n",
       "      <td>Impala</td>\n",
       "      <td>2002</td>\n",
       "      <td>Automatic</td>\n",
       "      <td>Electric</td>\n",
       "      <td>168000.0</td>\n",
       "      <td>2</td>\n",
       "      <td>6240.0</td>\n",
       "    </tr>\n",
       "    <tr>\n",
       "      <th>9999</th>\n",
       "      <td>BMW</td>\n",
       "      <td>3 Series</td>\n",
       "      <td>2010</td>\n",
       "      <td>Automatic</td>\n",
       "      <td>Petrol</td>\n",
       "      <td>86664.0</td>\n",
       "      <td>5</td>\n",
       "      <td>9866.0</td>\n",
       "    </tr>\n",
       "    <tr>\n",
       "      <th>10000</th>\n",
       "      <td>Ford</td>\n",
       "      <td>Explorer</td>\n",
       "      <td>2002</td>\n",
       "      <td>Automatic</td>\n",
       "      <td>Hybrid</td>\n",
       "      <td>225772.0</td>\n",
       "      <td>4</td>\n",
       "      <td>4084.0</td>\n",
       "    </tr>\n",
       "    <tr>\n",
       "      <th>10001</th>\n",
       "      <td>Volkswagen</td>\n",
       "      <td>Tiguan</td>\n",
       "      <td>2001</td>\n",
       "      <td>Manual</td>\n",
       "      <td>Diesel</td>\n",
       "      <td>157882.0</td>\n",
       "      <td>3</td>\n",
       "      <td>3342.0</td>\n",
       "    </tr>\n",
       "  </tbody>\n",
       "</table>\n",
       "<p>10002 rows × 8 columns</p>\n",
       "</div>"
      ],
      "text/plain": [
       "            Brand     Model  Year    Transmission Fuel_Type   Mileage  Doors  \\\n",
       "0             Kia       Rio  2020          Manual    Diesel       NaN      3   \n",
       "1       Chevrolet    Malibu  2012       Automatic         ?    5356.0      2   \n",
       "2        Mercedes       GLA  2020       Automatic    Diesel  231440.0      4   \n",
       "3            Audi        Q5  2023          Manual  Electric       NaN      2   \n",
       "4      Volkswagen      Golf  2003  Semi-Automatic    Hybrid  286618.0      3   \n",
       "...           ...       ...   ...             ...       ...       ...    ...   \n",
       "9997          Kia    Optima  2004  Semi-Automatic    Diesel    5794.0      2   \n",
       "9998    Chevrolet    Impala  2002       Automatic  Electric  168000.0      2   \n",
       "9999          BMW  3 Series  2010       Automatic    Petrol   86664.0      5   \n",
       "10000        Ford  Explorer  2002       Automatic    Hybrid  225772.0      4   \n",
       "10001  Volkswagen    Tiguan  2001          Manual    Diesel  157882.0      3   \n",
       "\n",
       "         Price  \n",
       "0       8501.0  \n",
       "1          NaN  \n",
       "2      11171.0  \n",
       "3      11780.0  \n",
       "4       2867.0  \n",
       "...        ...  \n",
       "9997    8884.0  \n",
       "9998    6240.0  \n",
       "9999    9866.0  \n",
       "10000   4084.0  \n",
       "10001   3342.0  \n",
       "\n",
       "[10002 rows x 8 columns]"
      ]
     },
     "execution_count": 39,
     "metadata": {},
     "output_type": "execute_result"
    }
   ],
   "source": [
    "df['Model'] = df['Model'].replace(['?', np.nan], ['Cayenne','911 Targa'])\n",
    "df"
   ]
  },
  {
   "cell_type": "code",
   "execution_count": 40,
   "id": "4097681d-ad74-46ae-870a-568a22137cff",
   "metadata": {},
   "outputs": [
    {
     "data": {
      "text/plain": [
       "array(['Rio', 'Malibu', 'GLA', 'Q5', 'Golf', 'Camry', 'Civic', 'Sportage',\n",
       "       'RAV4', '5 Series', 'CR-V', 'Elantra', 'Tiguan', 'Equinox',\n",
       "       'Explorer', 'A3', '3 Series', 'Tucson', 'Passat', 'Impala',\n",
       "       'Corolla', 'Optima', 'Fiesta', 'A4', 'Focus', 'E-Class', 'Sonata',\n",
       "       'C-Class', 'X5', '911 Targa', 'Accord', 'Macan', 'Cayene',\n",
       "       '918 Spider', 'Cayenne', '911 Carrera'], dtype=object)"
      ]
     },
     "execution_count": 40,
     "metadata": {},
     "output_type": "execute_result"
    }
   ],
   "source": [
    "df['Model'].unique()"
   ]
  },
  {
   "cell_type": "code",
   "execution_count": 24,
   "id": "321b74ce-4c92-46b9-8fc5-d191134d13da",
   "metadata": {},
   "outputs": [
    {
     "data": {
      "text/plain": [
       "array(['Manual', 'Automatic', 'Semi-Automatic', nan], dtype=object)"
      ]
     },
     "execution_count": 24,
     "metadata": {},
     "output_type": "execute_result"
    }
   ],
   "source": [
    "#Kiểm tra thuộc tính Transmission\n",
    "df.Transmission.unique"
   ]
  },
  {
   "cell_type": "code",
   "execution_count": 26,
   "id": "c0a34e7b-1f88-47b6-a0c0-fb5f7c5d4fba",
   "metadata": {},
   "outputs": [
    {
     "name": "stdout",
     "output_type": "stream",
     "text": [
      "Gia tri xuat hien nhieu nhat:  Manual\n",
      "So lan xuat hien nhieu nhat:  3371\n"
     ]
    }
   ],
   "source": [
    "most_common_transmission = df['Transmission'].value_counts().idxmax()\n",
    "max_count =  df['Transmission'].value_counts().max()\n",
    "\n",
    "print(\"Gia tri xuat hien nhieu nhat: \", most_common_transmission)\n",
    "print(\"So lan xuat hien nhieu nhat: \", max_count)"
   ]
  },
  {
   "cell_type": "code",
   "execution_count": 32,
   "id": "a58a08ca-4913-43a4-9f2a-6c2dcaa7891f",
   "metadata": {},
   "outputs": [
    {
     "data": {
      "text/html": [
       "<div>\n",
       "<style scoped>\n",
       "    .dataframe tbody tr th:only-of-type {\n",
       "        vertical-align: middle;\n",
       "    }\n",
       "\n",
       "    .dataframe tbody tr th {\n",
       "        vertical-align: top;\n",
       "    }\n",
       "\n",
       "    .dataframe thead th {\n",
       "        text-align: right;\n",
       "    }\n",
       "</style>\n",
       "<table border=\"1\" class=\"dataframe\">\n",
       "  <thead>\n",
       "    <tr style=\"text-align: right;\">\n",
       "      <th></th>\n",
       "      <th>Brand</th>\n",
       "      <th>Model</th>\n",
       "      <th>Year</th>\n",
       "      <th>Transmission</th>\n",
       "      <th>Fuel_Type</th>\n",
       "      <th>Mileage</th>\n",
       "      <th>Doors</th>\n",
       "      <th>Price</th>\n",
       "    </tr>\n",
       "  </thead>\n",
       "  <tbody>\n",
       "    <tr>\n",
       "      <th>0</th>\n",
       "      <td>Kia</td>\n",
       "      <td>Rio</td>\n",
       "      <td>2020</td>\n",
       "      <td>Manual</td>\n",
       "      <td>Diesel</td>\n",
       "      <td>NaN</td>\n",
       "      <td>3</td>\n",
       "      <td>8501.0</td>\n",
       "    </tr>\n",
       "    <tr>\n",
       "      <th>1</th>\n",
       "      <td>Chevrolet</td>\n",
       "      <td>Malibu</td>\n",
       "      <td>2012</td>\n",
       "      <td>Automatic</td>\n",
       "      <td>?</td>\n",
       "      <td>5356.0</td>\n",
       "      <td>2</td>\n",
       "      <td>NaN</td>\n",
       "    </tr>\n",
       "    <tr>\n",
       "      <th>2</th>\n",
       "      <td>Mercedes</td>\n",
       "      <td>GLA</td>\n",
       "      <td>2020</td>\n",
       "      <td>Automatic</td>\n",
       "      <td>Diesel</td>\n",
       "      <td>231440.0</td>\n",
       "      <td>4</td>\n",
       "      <td>11171.0</td>\n",
       "    </tr>\n",
       "    <tr>\n",
       "      <th>3</th>\n",
       "      <td>Audi</td>\n",
       "      <td>Q5</td>\n",
       "      <td>2023</td>\n",
       "      <td>Manual</td>\n",
       "      <td>Electric</td>\n",
       "      <td>NaN</td>\n",
       "      <td>2</td>\n",
       "      <td>11780.0</td>\n",
       "    </tr>\n",
       "    <tr>\n",
       "      <th>4</th>\n",
       "      <td>Volkswagen</td>\n",
       "      <td>Golf</td>\n",
       "      <td>2003</td>\n",
       "      <td>Semi-Automatic</td>\n",
       "      <td>Hybrid</td>\n",
       "      <td>286618.0</td>\n",
       "      <td>3</td>\n",
       "      <td>2867.0</td>\n",
       "    </tr>\n",
       "  </tbody>\n",
       "</table>\n",
       "</div>"
      ],
      "text/plain": [
       "        Brand   Model  Year    Transmission Fuel_Type   Mileage  Doors  \\\n",
       "0         Kia     Rio  2020          Manual    Diesel       NaN      3   \n",
       "1   Chevrolet  Malibu  2012       Automatic         ?    5356.0      2   \n",
       "2    Mercedes     GLA  2020       Automatic    Diesel  231440.0      4   \n",
       "3        Audi      Q5  2023          Manual  Electric       NaN      2   \n",
       "4  Volkswagen    Golf  2003  Semi-Automatic    Hybrid  286618.0      3   \n",
       "\n",
       "     Price  \n",
       "0   8501.0  \n",
       "1      NaN  \n",
       "2  11171.0  \n",
       "3  11780.0  \n",
       "4   2867.0  "
      ]
     },
     "execution_count": 32,
     "metadata": {},
     "output_type": "execute_result"
    }
   ],
   "source": [
    "#Gán những giá trị nan bằng giá trị xuất hiện nhiều nhất\n",
    "df['Transmission'] = df['Transmission'].replace(np.nan, most_common_transmission)\n",
    "df.head()"
   ]
  },
  {
   "cell_type": "code",
   "execution_count": 33,
   "id": "49215312-cb1d-4cac-8755-3fae53dae8e3",
   "metadata": {},
   "outputs": [
    {
     "data": {
      "text/plain": [
       "array(['Manual', 'Automatic', 'Semi-Automatic'], dtype=object)"
      ]
     },
     "execution_count": 33,
     "metadata": {},
     "output_type": "execute_result"
    }
   ],
   "source": [
    "df.Transmission.unique()"
   ]
  },
  {
   "cell_type": "code",
   "execution_count": 34,
   "id": "892db831-c1a0-4579-879d-21bca7ed99be",
   "metadata": {},
   "outputs": [
    {
     "data": {
      "text/plain": [
       "array(['Diesel', '?', 'Electric', 'Hybrid', 'Petrol', nan], dtype=object)"
      ]
     },
     "execution_count": 34,
     "metadata": {},
     "output_type": "execute_result"
    }
   ],
   "source": [
    "#Kiểm tra các thuộc tính của Fuel_Type\n",
    "df['Fuel_Type'].unique()"
   ]
  },
  {
   "cell_type": "code",
   "execution_count": 42,
   "id": "4bb0620b-9503-49e1-8551-6c1e6d34cf46",
   "metadata": {},
   "outputs": [
    {
     "data": {
      "text/html": [
       "<div>\n",
       "<style scoped>\n",
       "    .dataframe tbody tr th:only-of-type {\n",
       "        vertical-align: middle;\n",
       "    }\n",
       "\n",
       "    .dataframe tbody tr th {\n",
       "        vertical-align: top;\n",
       "    }\n",
       "\n",
       "    .dataframe thead th {\n",
       "        text-align: right;\n",
       "    }\n",
       "</style>\n",
       "<table border=\"1\" class=\"dataframe\">\n",
       "  <thead>\n",
       "    <tr style=\"text-align: right;\">\n",
       "      <th></th>\n",
       "      <th>Brand</th>\n",
       "      <th>Model</th>\n",
       "      <th>Year</th>\n",
       "      <th>Transmission</th>\n",
       "      <th>Fuel_Type</th>\n",
       "      <th>Mileage</th>\n",
       "      <th>Doors</th>\n",
       "      <th>Price</th>\n",
       "    </tr>\n",
       "  </thead>\n",
       "  <tbody>\n",
       "    <tr>\n",
       "      <th>9997</th>\n",
       "      <td>Kia</td>\n",
       "      <td>Optima</td>\n",
       "      <td>2004</td>\n",
       "      <td>Semi-Automatic</td>\n",
       "      <td>Diesel</td>\n",
       "      <td>5794.0</td>\n",
       "      <td>2</td>\n",
       "      <td>8884.0</td>\n",
       "    </tr>\n",
       "    <tr>\n",
       "      <th>9998</th>\n",
       "      <td>Chevrolet</td>\n",
       "      <td>Impala</td>\n",
       "      <td>2002</td>\n",
       "      <td>Automatic</td>\n",
       "      <td>Electric</td>\n",
       "      <td>168000.0</td>\n",
       "      <td>2</td>\n",
       "      <td>6240.0</td>\n",
       "    </tr>\n",
       "    <tr>\n",
       "      <th>9999</th>\n",
       "      <td>BMW</td>\n",
       "      <td>3 Series</td>\n",
       "      <td>2010</td>\n",
       "      <td>Automatic</td>\n",
       "      <td>Petrol</td>\n",
       "      <td>86664.0</td>\n",
       "      <td>5</td>\n",
       "      <td>9866.0</td>\n",
       "    </tr>\n",
       "    <tr>\n",
       "      <th>10000</th>\n",
       "      <td>Ford</td>\n",
       "      <td>Explorer</td>\n",
       "      <td>2002</td>\n",
       "      <td>Automatic</td>\n",
       "      <td>Hybrid</td>\n",
       "      <td>225772.0</td>\n",
       "      <td>4</td>\n",
       "      <td>4084.0</td>\n",
       "    </tr>\n",
       "    <tr>\n",
       "      <th>10001</th>\n",
       "      <td>Volkswagen</td>\n",
       "      <td>Tiguan</td>\n",
       "      <td>2001</td>\n",
       "      <td>Manual</td>\n",
       "      <td>Diesel</td>\n",
       "      <td>157882.0</td>\n",
       "      <td>3</td>\n",
       "      <td>3342.0</td>\n",
       "    </tr>\n",
       "  </tbody>\n",
       "</table>\n",
       "</div>"
      ],
      "text/plain": [
       "            Brand     Model  Year    Transmission Fuel_Type   Mileage  Doors  \\\n",
       "9997          Kia    Optima  2004  Semi-Automatic    Diesel    5794.0      2   \n",
       "9998    Chevrolet    Impala  2002       Automatic  Electric  168000.0      2   \n",
       "9999          BMW  3 Series  2010       Automatic    Petrol   86664.0      5   \n",
       "10000        Ford  Explorer  2002       Automatic    Hybrid  225772.0      4   \n",
       "10001  Volkswagen    Tiguan  2001          Manual    Diesel  157882.0      3   \n",
       "\n",
       "        Price  \n",
       "9997   8884.0  \n",
       "9998   6240.0  \n",
       "9999   9866.0  \n",
       "10000  4084.0  \n",
       "10001  3342.0  "
      ]
     },
     "execution_count": 42,
     "metadata": {},
     "output_type": "execute_result"
    }
   ],
   "source": [
    "df['Fuel_Type'] = df['Fuel_Type'].replace(['?', np.nan],['Diesel', 'Hybrid'])\n",
    "df.tail(5)"
   ]
  },
  {
   "cell_type": "code",
   "execution_count": 43,
   "id": "2a7406d8-4676-41f1-b02f-087166c0de3e",
   "metadata": {},
   "outputs": [
    {
     "data": {
      "text/plain": [
       "array(['Diesel', 'Electric', 'Hybrid', 'Petrol'], dtype=object)"
      ]
     },
     "execution_count": 43,
     "metadata": {},
     "output_type": "execute_result"
    }
   ],
   "source": [
    "df['Fuel_Type'].unique()"
   ]
  },
  {
   "cell_type": "code",
   "execution_count": 45,
   "id": "9a6c6fac-f99c-428f-b817-86e04f87f278",
   "metadata": {},
   "outputs": [
    {
     "data": {
      "text/plain": [
       "np.int64(2)"
      ]
     },
     "execution_count": 45,
     "metadata": {},
     "output_type": "execute_result"
    }
   ],
   "source": [
    "#Kiểm tra phần tử trùng lắjp\n",
    "df.duplicated().sum()"
   ]
  },
  {
   "cell_type": "code",
   "execution_count": 46,
   "id": "b95a4d7c-43f7-4f3b-9874-d8e5c6402b10",
   "metadata": {},
   "outputs": [],
   "source": [
    "#xóa các dòng trùng lặp\n",
    "df = df.drop_duplicates()"
   ]
  },
  {
   "cell_type": "code",
   "execution_count": 48,
   "id": "f04baaa4-b20a-488f-9646-36ed3004ee7e",
   "metadata": {},
   "outputs": [
    {
     "data": {
      "text/html": [
       "<div>\n",
       "<style scoped>\n",
       "    .dataframe tbody tr th:only-of-type {\n",
       "        vertical-align: middle;\n",
       "    }\n",
       "\n",
       "    .dataframe tbody tr th {\n",
       "        vertical-align: top;\n",
       "    }\n",
       "\n",
       "    .dataframe thead th {\n",
       "        text-align: right;\n",
       "    }\n",
       "</style>\n",
       "<table border=\"1\" class=\"dataframe\">\n",
       "  <thead>\n",
       "    <tr style=\"text-align: right;\">\n",
       "      <th></th>\n",
       "      <th>Brand</th>\n",
       "      <th>Model</th>\n",
       "      <th>Year</th>\n",
       "      <th>Transmission</th>\n",
       "      <th>Fuel_Type</th>\n",
       "      <th>Mileage</th>\n",
       "      <th>Doors</th>\n",
       "      <th>Price</th>\n",
       "    </tr>\n",
       "  </thead>\n",
       "  <tbody>\n",
       "    <tr>\n",
       "      <th>0</th>\n",
       "      <td>Kia</td>\n",
       "      <td>Rio</td>\n",
       "      <td>2020</td>\n",
       "      <td>Manual</td>\n",
       "      <td>Diesel</td>\n",
       "      <td>NaN</td>\n",
       "      <td>3</td>\n",
       "      <td>8501.0</td>\n",
       "    </tr>\n",
       "    <tr>\n",
       "      <th>1</th>\n",
       "      <td>Chevrolet</td>\n",
       "      <td>Malibu</td>\n",
       "      <td>2012</td>\n",
       "      <td>Automatic</td>\n",
       "      <td>Diesel</td>\n",
       "      <td>5356.0</td>\n",
       "      <td>2</td>\n",
       "      <td>NaN</td>\n",
       "    </tr>\n",
       "    <tr>\n",
       "      <th>2</th>\n",
       "      <td>Mercedes</td>\n",
       "      <td>GLA</td>\n",
       "      <td>2020</td>\n",
       "      <td>Automatic</td>\n",
       "      <td>Diesel</td>\n",
       "      <td>231440.0</td>\n",
       "      <td>4</td>\n",
       "      <td>11171.0</td>\n",
       "    </tr>\n",
       "    <tr>\n",
       "      <th>3</th>\n",
       "      <td>Audi</td>\n",
       "      <td>Q5</td>\n",
       "      <td>2023</td>\n",
       "      <td>Manual</td>\n",
       "      <td>Electric</td>\n",
       "      <td>NaN</td>\n",
       "      <td>2</td>\n",
       "      <td>11780.0</td>\n",
       "    </tr>\n",
       "    <tr>\n",
       "      <th>4</th>\n",
       "      <td>Volkswagen</td>\n",
       "      <td>Golf</td>\n",
       "      <td>2003</td>\n",
       "      <td>Semi-Automatic</td>\n",
       "      <td>Hybrid</td>\n",
       "      <td>286618.0</td>\n",
       "      <td>3</td>\n",
       "      <td>2867.0</td>\n",
       "    </tr>\n",
       "  </tbody>\n",
       "</table>\n",
       "</div>"
      ],
      "text/plain": [
       "        Brand   Model  Year    Transmission Fuel_Type   Mileage  Doors  \\\n",
       "0         Kia     Rio  2020          Manual    Diesel       NaN      3   \n",
       "1   Chevrolet  Malibu  2012       Automatic    Diesel    5356.0      2   \n",
       "2    Mercedes     GLA  2020       Automatic    Diesel  231440.0      4   \n",
       "3        Audi      Q5  2023          Manual  Electric       NaN      2   \n",
       "4  Volkswagen    Golf  2003  Semi-Automatic    Hybrid  286618.0      3   \n",
       "\n",
       "     Price  \n",
       "0   8501.0  \n",
       "1      NaN  \n",
       "2  11171.0  \n",
       "3  11780.0  \n",
       "4   2867.0  "
      ]
     },
     "execution_count": 48,
     "metadata": {},
     "output_type": "execute_result"
    }
   ],
   "source": [
    "#kiểm tra các dòng của cột Mileage\n",
    "df.Mileage.unique()\n",
    "df.head()"
   ]
  },
  {
   "cell_type": "code",
   "execution_count": 49,
   "id": "8c5b4e9e-6edf-41ef-a0a7-84bfa0aca4b9",
   "metadata": {},
   "outputs": [
    {
     "data": {
      "text/html": [
       "<div>\n",
       "<style scoped>\n",
       "    .dataframe tbody tr th:only-of-type {\n",
       "        vertical-align: middle;\n",
       "    }\n",
       "\n",
       "    .dataframe tbody tr th {\n",
       "        vertical-align: top;\n",
       "    }\n",
       "\n",
       "    .dataframe thead th {\n",
       "        text-align: right;\n",
       "    }\n",
       "</style>\n",
       "<table border=\"1\" class=\"dataframe\">\n",
       "  <thead>\n",
       "    <tr style=\"text-align: right;\">\n",
       "      <th></th>\n",
       "      <th>Brand</th>\n",
       "      <th>Model</th>\n",
       "      <th>Year</th>\n",
       "      <th>Transmission</th>\n",
       "      <th>Fuel_Type</th>\n",
       "      <th>Mileage</th>\n",
       "      <th>Doors</th>\n",
       "      <th>Price</th>\n",
       "    </tr>\n",
       "  </thead>\n",
       "  <tbody>\n",
       "    <tr>\n",
       "      <th>1</th>\n",
       "      <td>Chevrolet</td>\n",
       "      <td>Malibu</td>\n",
       "      <td>2012</td>\n",
       "      <td>Automatic</td>\n",
       "      <td>Diesel</td>\n",
       "      <td>5356.0</td>\n",
       "      <td>2</td>\n",
       "      <td>NaN</td>\n",
       "    </tr>\n",
       "    <tr>\n",
       "      <th>2</th>\n",
       "      <td>Mercedes</td>\n",
       "      <td>GLA</td>\n",
       "      <td>2020</td>\n",
       "      <td>Automatic</td>\n",
       "      <td>Diesel</td>\n",
       "      <td>231440.0</td>\n",
       "      <td>4</td>\n",
       "      <td>11171.0</td>\n",
       "    </tr>\n",
       "    <tr>\n",
       "      <th>4</th>\n",
       "      <td>Volkswagen</td>\n",
       "      <td>Golf</td>\n",
       "      <td>2003</td>\n",
       "      <td>Semi-Automatic</td>\n",
       "      <td>Hybrid</td>\n",
       "      <td>286618.0</td>\n",
       "      <td>3</td>\n",
       "      <td>2867.0</td>\n",
       "    </tr>\n",
       "    <tr>\n",
       "      <th>5</th>\n",
       "      <td>Toyota</td>\n",
       "      <td>Camry</td>\n",
       "      <td>2007</td>\n",
       "      <td>Automatic</td>\n",
       "      <td>Diesel</td>\n",
       "      <td>157889.0</td>\n",
       "      <td>4</td>\n",
       "      <td>7242.0</td>\n",
       "    </tr>\n",
       "    <tr>\n",
       "      <th>6</th>\n",
       "      <td>Honda</td>\n",
       "      <td>Civic</td>\n",
       "      <td>2010</td>\n",
       "      <td>Automatic</td>\n",
       "      <td>Electric</td>\n",
       "      <td>139584.0</td>\n",
       "      <td>3</td>\n",
       "      <td>NaN</td>\n",
       "    </tr>\n",
       "  </tbody>\n",
       "</table>\n",
       "</div>"
      ],
      "text/plain": [
       "        Brand   Model  Year    Transmission Fuel_Type   Mileage  Doors  \\\n",
       "1   Chevrolet  Malibu  2012       Automatic    Diesel    5356.0      2   \n",
       "2    Mercedes     GLA  2020       Automatic    Diesel  231440.0      4   \n",
       "4  Volkswagen    Golf  2003  Semi-Automatic    Hybrid  286618.0      3   \n",
       "5      Toyota   Camry  2007       Automatic    Diesel  157889.0      4   \n",
       "6       Honda   Civic  2010       Automatic  Electric  139584.0      3   \n",
       "\n",
       "     Price  \n",
       "1      NaN  \n",
       "2  11171.0  \n",
       "4   2867.0  \n",
       "5   7242.0  \n",
       "6      NaN  "
      ]
     },
     "execution_count": 49,
     "metadata": {},
     "output_type": "execute_result"
    }
   ],
   "source": [
    "#xóa các dòng có dữ liệu mile để trống\n",
    "df = df.dropna(subset=['Mileage'])\n",
    "df.head()"
   ]
  },
  {
   "cell_type": "code",
   "execution_count": 50,
   "id": "223051b2-daa9-4e2d-a0f5-6dceb6fdcce9",
   "metadata": {},
   "outputs": [
    {
     "data": {
      "text/html": [
       "<div>\n",
       "<style scoped>\n",
       "    .dataframe tbody tr th:only-of-type {\n",
       "        vertical-align: middle;\n",
       "    }\n",
       "\n",
       "    .dataframe tbody tr th {\n",
       "        vertical-align: top;\n",
       "    }\n",
       "\n",
       "    .dataframe thead th {\n",
       "        text-align: right;\n",
       "    }\n",
       "</style>\n",
       "<table border=\"1\" class=\"dataframe\">\n",
       "  <thead>\n",
       "    <tr style=\"text-align: right;\">\n",
       "      <th></th>\n",
       "      <th>Brand</th>\n",
       "      <th>Model</th>\n",
       "      <th>Year</th>\n",
       "      <th>Transmission</th>\n",
       "      <th>Fuel_Type</th>\n",
       "      <th>Mileage</th>\n",
       "      <th>Doors</th>\n",
       "      <th>Price</th>\n",
       "      <th>Kilometer</th>\n",
       "    </tr>\n",
       "  </thead>\n",
       "  <tbody>\n",
       "    <tr>\n",
       "      <th>1</th>\n",
       "      <td>Chevrolet</td>\n",
       "      <td>Malibu</td>\n",
       "      <td>2012</td>\n",
       "      <td>Automatic</td>\n",
       "      <td>Diesel</td>\n",
       "      <td>5356.0</td>\n",
       "      <td>2</td>\n",
       "      <td>NaN</td>\n",
       "      <td>8619.62504</td>\n",
       "    </tr>\n",
       "    <tr>\n",
       "      <th>2</th>\n",
       "      <td>Mercedes</td>\n",
       "      <td>GLA</td>\n",
       "      <td>2020</td>\n",
       "      <td>Automatic</td>\n",
       "      <td>Diesel</td>\n",
       "      <td>231440.0</td>\n",
       "      <td>4</td>\n",
       "      <td>11171.0</td>\n",
       "      <td>372465.64960</td>\n",
       "    </tr>\n",
       "    <tr>\n",
       "      <th>4</th>\n",
       "      <td>Volkswagen</td>\n",
       "      <td>Golf</td>\n",
       "      <td>2003</td>\n",
       "      <td>Semi-Automatic</td>\n",
       "      <td>Hybrid</td>\n",
       "      <td>286618.0</td>\n",
       "      <td>3</td>\n",
       "      <td>2867.0</td>\n",
       "      <td>461265.81212</td>\n",
       "    </tr>\n",
       "    <tr>\n",
       "      <th>5</th>\n",
       "      <td>Toyota</td>\n",
       "      <td>Camry</td>\n",
       "      <td>2007</td>\n",
       "      <td>Automatic</td>\n",
       "      <td>Diesel</td>\n",
       "      <td>157889.0</td>\n",
       "      <td>4</td>\n",
       "      <td>7242.0</td>\n",
       "      <td>254097.08326</td>\n",
       "    </tr>\n",
       "    <tr>\n",
       "      <th>6</th>\n",
       "      <td>Honda</td>\n",
       "      <td>Civic</td>\n",
       "      <td>2010</td>\n",
       "      <td>Automatic</td>\n",
       "      <td>Electric</td>\n",
       "      <td>139584.0</td>\n",
       "      <td>3</td>\n",
       "      <td>NaN</td>\n",
       "      <td>224638.11456</td>\n",
       "    </tr>\n",
       "  </tbody>\n",
       "</table>\n",
       "</div>"
      ],
      "text/plain": [
       "        Brand   Model  Year    Transmission Fuel_Type   Mileage  Doors  \\\n",
       "1   Chevrolet  Malibu  2012       Automatic    Diesel    5356.0      2   \n",
       "2    Mercedes     GLA  2020       Automatic    Diesel  231440.0      4   \n",
       "4  Volkswagen    Golf  2003  Semi-Automatic    Hybrid  286618.0      3   \n",
       "5      Toyota   Camry  2007       Automatic    Diesel  157889.0      4   \n",
       "6       Honda   Civic  2010       Automatic  Electric  139584.0      3   \n",
       "\n",
       "     Price     Kilometer  \n",
       "1      NaN    8619.62504  \n",
       "2  11171.0  372465.64960  \n",
       "4   2867.0  461265.81212  \n",
       "5   7242.0  254097.08326  \n",
       "6      NaN  224638.11456  "
      ]
     },
     "execution_count": 50,
     "metadata": {},
     "output_type": "execute_result"
    }
   ],
   "source": [
    "#Thêm 1 cột dữ liệu về kilomet\n",
    "df['Kilometer'] = df['Mileage'] * 1.60934\n",
    "df.head()"
   ]
  },
  {
   "cell_type": "code",
   "execution_count": 51,
   "id": "91ae0adb-66a4-4b94-8b76-d6facf4f5d0c",
   "metadata": {},
   "outputs": [
    {
     "data": {
      "text/plain": [
       "array([   nan, 11171.,  2867., ...,  9866.,  4084.,  3342.])"
      ]
     },
     "execution_count": 51,
     "metadata": {},
     "output_type": "execute_result"
    }
   ],
   "source": [
    "#Kiểm tra cột giá\n",
    "df['Price'].unique()"
   ]
  },
  {
   "cell_type": "code",
   "execution_count": 52,
   "id": "5ed495b7-536a-4d41-87a7-87563b0d5ed6",
   "metadata": {},
   "outputs": [
    {
     "data": {
      "text/plain": [
       "dtype('float64')"
      ]
     },
     "execution_count": 52,
     "metadata": {},
     "output_type": "execute_result"
    }
   ],
   "source": [
    "# định giá bằng cách tính theo số năm\n",
    "df.Price.dtype"
   ]
  },
  {
   "cell_type": "code",
   "execution_count": 55,
   "id": "1a10d8ed-506e-410a-8ccf-df4445c04a23",
   "metadata": {},
   "outputs": [],
   "source": [
    "# Năm < 2010 → thay NaN bằng 5000\n",
    "df.loc[(df['Year'] < 2010) & (df['Price'].isna()), 'Price'] = 5000\n",
    "\n",
    "# Năm < 2015 → thay NaN bằng 10000\n",
    "df.loc[(df['Year'] < 2015) & (df['Price'].isna()), 'Price'] = 10000\n",
    "\n",
    "# Năm < 2020 → thay NaN bằng 15000\n",
    "df.loc[(df['Year'] < 2020) & (df['Price'].isna()), 'Price'] = 15000\n",
    "\n",
    "# Còn lại → thay NaN bằng 20000\n",
    "df.loc[df['Price'].isna(), 'Price'] = 20000"
   ]
  },
  {
   "cell_type": "code",
   "execution_count": 56,
   "id": "fc6d949b-5a89-4f3b-89ae-45ea365238f2",
   "metadata": {},
   "outputs": [
    {
     "data": {
      "text/html": [
       "<div>\n",
       "<style scoped>\n",
       "    .dataframe tbody tr th:only-of-type {\n",
       "        vertical-align: middle;\n",
       "    }\n",
       "\n",
       "    .dataframe tbody tr th {\n",
       "        vertical-align: top;\n",
       "    }\n",
       "\n",
       "    .dataframe thead th {\n",
       "        text-align: right;\n",
       "    }\n",
       "</style>\n",
       "<table border=\"1\" class=\"dataframe\">\n",
       "  <thead>\n",
       "    <tr style=\"text-align: right;\">\n",
       "      <th></th>\n",
       "      <th>Brand</th>\n",
       "      <th>Model</th>\n",
       "      <th>Year</th>\n",
       "      <th>Transmission</th>\n",
       "      <th>Fuel_Type</th>\n",
       "      <th>Mileage</th>\n",
       "      <th>Doors</th>\n",
       "      <th>Price</th>\n",
       "      <th>Kilometer</th>\n",
       "    </tr>\n",
       "  </thead>\n",
       "  <tbody>\n",
       "    <tr>\n",
       "      <th>1</th>\n",
       "      <td>Chevrolet</td>\n",
       "      <td>Malibu</td>\n",
       "      <td>2012</td>\n",
       "      <td>Automatic</td>\n",
       "      <td>Diesel</td>\n",
       "      <td>5356.0</td>\n",
       "      <td>2</td>\n",
       "      <td>10000.0</td>\n",
       "      <td>8619.62504</td>\n",
       "    </tr>\n",
       "    <tr>\n",
       "      <th>2</th>\n",
       "      <td>Mercedes</td>\n",
       "      <td>GLA</td>\n",
       "      <td>2020</td>\n",
       "      <td>Automatic</td>\n",
       "      <td>Diesel</td>\n",
       "      <td>231440.0</td>\n",
       "      <td>4</td>\n",
       "      <td>11171.0</td>\n",
       "      <td>372465.64960</td>\n",
       "    </tr>\n",
       "    <tr>\n",
       "      <th>4</th>\n",
       "      <td>Volkswagen</td>\n",
       "      <td>Golf</td>\n",
       "      <td>2003</td>\n",
       "      <td>Semi-Automatic</td>\n",
       "      <td>Hybrid</td>\n",
       "      <td>286618.0</td>\n",
       "      <td>3</td>\n",
       "      <td>2867.0</td>\n",
       "      <td>461265.81212</td>\n",
       "    </tr>\n",
       "    <tr>\n",
       "      <th>5</th>\n",
       "      <td>Toyota</td>\n",
       "      <td>Camry</td>\n",
       "      <td>2007</td>\n",
       "      <td>Automatic</td>\n",
       "      <td>Diesel</td>\n",
       "      <td>157889.0</td>\n",
       "      <td>4</td>\n",
       "      <td>7242.0</td>\n",
       "      <td>254097.08326</td>\n",
       "    </tr>\n",
       "    <tr>\n",
       "      <th>6</th>\n",
       "      <td>Honda</td>\n",
       "      <td>Civic</td>\n",
       "      <td>2010</td>\n",
       "      <td>Automatic</td>\n",
       "      <td>Electric</td>\n",
       "      <td>139584.0</td>\n",
       "      <td>3</td>\n",
       "      <td>10000.0</td>\n",
       "      <td>224638.11456</td>\n",
       "    </tr>\n",
       "  </tbody>\n",
       "</table>\n",
       "</div>"
      ],
      "text/plain": [
       "        Brand   Model  Year    Transmission Fuel_Type   Mileage  Doors  \\\n",
       "1   Chevrolet  Malibu  2012       Automatic    Diesel    5356.0      2   \n",
       "2    Mercedes     GLA  2020       Automatic    Diesel  231440.0      4   \n",
       "4  Volkswagen    Golf  2003  Semi-Automatic    Hybrid  286618.0      3   \n",
       "5      Toyota   Camry  2007       Automatic    Diesel  157889.0      4   \n",
       "6       Honda   Civic  2010       Automatic  Electric  139584.0      3   \n",
       "\n",
       "     Price     Kilometer  \n",
       "1  10000.0    8619.62504  \n",
       "2  11171.0  372465.64960  \n",
       "4   2867.0  461265.81212  \n",
       "5   7242.0  254097.08326  \n",
       "6  10000.0  224638.11456  "
      ]
     },
     "execution_count": 56,
     "metadata": {},
     "output_type": "execute_result"
    }
   ],
   "source": [
    "df.head()"
   ]
  },
  {
   "cell_type": "markdown",
   "id": "3b71a2cf-26d3-4aff-8fc6-eb454bc71314",
   "metadata": {},
   "source": [
    "# 3. Export data"
   ]
  },
  {
   "cell_type": "code",
   "execution_count": 57,
   "id": "ff0c3cb7-4277-4996-8c6f-e6b159b1211c",
   "metadata": {},
   "outputs": [],
   "source": [
    "df.to_excel('car_data_processed.xlsx')"
   ]
  },
  {
   "cell_type": "markdown",
   "id": "8096d659-3ee6-4d3c-a1a1-bd9a9ac6ee9a",
   "metadata": {},
   "source": [
    "## II. Trực quan hóa dữ liệu"
   ]
  },
  {
   "cell_type": "markdown",
   "id": "16953db2-3692-4309-b37c-3779dc5cfae6",
   "metadata": {},
   "source": [
    "### 1. Introduce Matplotlib"
   ]
  },
  {
   "cell_type": "code",
   "execution_count": 3,
   "id": "d83547dd-baac-4709-b0c0-63be367b3947",
   "metadata": {},
   "outputs": [
    {
     "data": {
      "image/png": "[encoded data removed]",
      "text/plain": [
       "<Figure size 640x480 with 1 Axes>"
      ]
     },
     "metadata": {},
     "output_type": "display_data"
    }
   ],
   "source": [
    "plt.plot();"
   ]
  },
  {
   "cell_type": "code",
   "execution_count": 10,
   "id": "31a76f43-07f8-46b1-93aa-358cf10d479b",
   "metadata": {},
   "outputs": [
    {
     "data": {
      "text/plain": [
       "['Solarize_Light2',\n",
       " '_classic_test_patch',\n",
       " '_mpl-gallery',\n",
       " '_mpl-gallery-nogrid',\n",
       " 'bmh',\n",
       " 'classic',\n",
       " 'dark_background',\n",
       " 'fast',\n",
       " 'fivethirtyeight',\n",
       " 'ggplot',\n",
       " 'grayscale',\n",
       " 'petroff10',\n",
       " 'seaborn-v0_8',\n",
       " 'seaborn-v0_8-bright',\n",
       " 'seaborn-v0_8-colorblind',\n",
       " 'seaborn-v0_8-dark',\n",
       " 'seaborn-v0_8-dark-palette',\n",
       " 'seaborn-v0_8-darkgrid',\n",
       " 'seaborn-v0_8-deep',\n",
       " 'seaborn-v0_8-muted',\n",
       " 'seaborn-v0_8-notebook',\n",
       " 'seaborn-v0_8-paper',\n",
       " 'seaborn-v0_8-pastel',\n",
       " 'seaborn-v0_8-poster',\n",
       " 'seaborn-v0_8-talk',\n",
       " 'seaborn-v0_8-ticks',\n",
       " 'seaborn-v0_8-white',\n",
       " 'seaborn-v0_8-whitegrid',\n",
       " 'tableau-colorblind10']"
      ]
     },
     "execution_count": 10,
     "metadata": {},
     "output_type": "execute_result"
    }
   ],
   "source": [
    "plt.style.available"
   ]
  },
  {
   "cell_type": "code",
   "execution_count": 13,
   "id": "e3b49785-50f7-42ba-a78e-6685ef47130a",
   "metadata": {},
   "outputs": [
    {
     "data": {
      "image/png": "[encoded data removed]",
      "text/plain": [
       "<Figure size 640x480 with 1 Axes>"
      ]
     },
     "metadata": {},
     "output_type": "display_data"
    }
   ],
   "source": [
    "plt.style.use('seaborn-v0_8-whitegrid')\n",
    "plt.plot();"
   ]
  },
  {
   "cell_type": "code",
   "execution_count": 14,
   "id": "e33f7912-7515-4b25-b15d-f625b7e8b95b",
   "metadata": {},
   "outputs": [
    {
     "data": {
      "text/plain": [
       "[<matplotlib.lines.Line2D at 0x26c01333ed0>]"
      ]
     },
     "execution_count": 14,
     "metadata": {},
     "output_type": "execute_result"
    },
    {
     "data": {
      "image/png": "[encoded data removed]",
      "text/plain": [
       "<Figure size 640x480 with 1 Axes>"
      ]
     },
     "metadata": {},
     "output_type": "display_data"
    }
   ],
   "source": [
    "x = [1, 8 ,3, 6]\n",
    "y = [10, 9, 7, 2]\n",
    "plt.plot(x, y, color = \"red\")"
   ]
  },
  {
   "cell_type": "markdown",
   "id": "027aeb98-bdad-404b-a8ed-0ad79a124e5f",
   "metadata": {},
   "source": [
    "## Pyplot API vs Object-Oriented (OO) API\n",
    "* Pyplot API -> nhanh\n",
    "* OO API -> nâng cao"
   ]
  },
  {
   "cell_type": "markdown",
   "id": "3c37df02-c72f-491c-8ea6-18658a3b3f32",
   "metadata": {},
   "source": [
    "#### Pyplot API"
   ]
  },
  {
   "cell_type": "code",
   "execution_count": 30,
   "id": "0eaed92d-5d49-49e6-b6ae-19525b77093c",
   "metadata": {},
   "outputs": [
    {
     "data": {
      "image/png": "[encoded data removed]",
      "text/plain": [
       "<Figure size 640x480 with 1 Axes>"
      ]
     },
     "metadata": {},
     "output_type": "display_data"
    }
   ],
   "source": [
    "x = np.linspace(0, 10, 1000)\n",
    "plt.plot(x, np.sin(x), color = \"green\", linestyle = \"dashed\", label = \"sin(x)\");\n",
    "plt.plot(x, np.cos(x), color = \"blue\", label = \"cos(x)\");\n",
    "\n",
    "plt.title(\"sin(x) and cos(x)\")#dat ten cho do thi\n",
    "plt.xlabel(\"X\")\n",
    "plt.ylabel(\"Sin(X)\")\n",
    "\n",
    "# plt.xlim([0, 4])\n",
    "# plt.ylim([-0.3, 0.36])\n",
    "\n",
    "# plt.axis([0, 4, -0.7, 0.6])\n",
    "\n",
    "# plt.axis(\"tight\")\n",
    "plt.axis(\"equal\")\n",
    "\n",
    "plt.legend(); #hien thi chu thich"
   ]
  },
  {
   "cell_type": "markdown",
   "id": "2cf4b821-a175-405c-b7ee-141d3e5f68b3",
   "metadata": {},
   "source": [
    "#### Object-Oriented API"
   ]
  },
  {
   "cell_type": "code",
   "execution_count": 34,
   "id": "3534b92a-5a36-49f3-bad6-c377a5c190a4",
   "metadata": {},
   "outputs": [
    {
     "data": {
      "image/png": "[encoded data removed]",
      "text/plain": [
       "<Figure size 400x400 with 1 Axes>"
      ]
     },
     "metadata": {},
     "output_type": "display_data"
    }
   ],
   "source": [
    "#1. Prepare data\n",
    "x = [1,2,3,4]\n",
    "y = [11,22,33,44]\n",
    "\n",
    "#2. Setup plot\n",
    "fig, ax = plt.subplots(figsize=(5,5)) #Figure size = Chieu cao va rong cua do thi\n",
    "\n",
    "#3. Plot the data\n",
    "ax.plot(x,y);\n",
    "\n",
    "ax.set(title = \"A simple plot\",\n",
    "      xlabel = \"x-axis\",\n",
    "      ylabel = \"y-axis\");"
   ]
  },
  {
   "cell_type": "markdown",
   "id": "de88122d-bb32-43ea-a73f-e959d175d892",
   "metadata": {},
   "source": [
    "## 2.Most common types of Matplotlib plots\n",
    "* line\n",
    "* scatter\n",
    "* bar\n",
    "* hist\n",
    "* subplots()\n",
    "\n",
    "### Line"
   ]
  },
  {
   "cell_type": "code",
   "execution_count": 35,
   "id": "d5ca70ba-241a-4a97-a468-679f34257b1d",
   "metadata": {},
   "outputs": [
    {
     "data": {
      "text/plain": [
       "array([0.       , 0.1010101, 0.2020202, 0.3030303, 0.4040404])"
      ]
     },
     "execution_count": 35,
     "metadata": {},
     "output_type": "execute_result"
    }
   ],
   "source": [
    "# Create an array\n",
    "x = np.linspace(0,10,100)\n",
    "x[:5]"
   ]
  },
  {
   "cell_type": "code",
   "execution_count": 36,
   "id": "6e200623-669d-4311-8b15-9d6960840224",
   "metadata": {},
   "outputs": [
    {
     "data": {
      "text/plain": [
       "[<matplotlib.lines.Line2D at 0x26c0903b610>]"
      ]
     },
     "execution_count": 36,
     "metadata": {},
     "output_type": "execute_result"
    },
    {
     "data": {
      "image/png": "[encoded data removed]",
      "text/plain": [
       "<Figure size 640x480 with 1 Axes>"
      ]
     },
     "metadata": {},
     "output_type": "display_data"
    }
   ],
   "source": [
    "#OO API plot a line chart\n",
    "\n",
    "fig, ax = plt.subplots()\n",
    "ax.plot(x, x**3)"
   ]
  },
  {
   "cell_type": "markdown",
   "id": "f6f89e8a-fa82-4d87-8a58-5013e4ee18bc",
   "metadata": {},
   "source": [
    "### Scatter\n",
    "* Bieu do phan tan"
   ]
  },
  {
   "cell_type": "code",
   "execution_count": 37,
   "id": "6d3a3ebd-2ec9-4aac-b0cf-24c1d090ee58",
   "metadata": {},
   "outputs": [
    {
     "data": {
      "text/plain": [
       "<matplotlib.collections.PathCollection at 0x26c7d9e0590>"
      ]
     },
     "execution_count": 37,
     "metadata": {},
     "output_type": "execute_result"
    },
    {
     "data": {
      "image/png": "[encoded data removed]",
      "text/plain": [
       "<Figure size 640x480 with 1 Axes>"
      ]
     },
     "metadata": {},
     "output_type": "display_data"
    }
   ],
   "source": [
    "# Pyplot API\n",
    "plt.scatter(x, np.exp(x)) #y = e^x"
   ]
  },
  {
   "cell_type": "code",
   "execution_count": 49,
   "id": "ffafc2a1-786f-4a2e-b916-f27cc8d4fc89",
   "metadata": {},
   "outputs": [
    {
     "data": {
      "text/plain": [
       "<matplotlib.colorbar.Colorbar at 0x26c09870590>"
      ]
     },
     "execution_count": 49,
     "metadata": {},
     "output_type": "execute_result"
    },
    {
     "data": {
      "image/png": "[encoded data removed]",
      "text/plain": [
       "<Figure size 640x480 with 2 Axes>"
      ]
     },
     "metadata": {},
     "output_type": "display_data"
    }
   ],
   "source": [
    "# OO API\n",
    "\n",
    "#Prepare new data\n",
    "rng = np.random.RandomState(0)\n",
    "\n",
    "x = rng.randn(100)\n",
    "y = rng.randn(100)\n",
    "\n",
    "colors = rng.rand(100) # cho ngẫu nhiên chỉ số màu\n",
    "size = 1000 * rng.rand(100) # cho kích cỡ của từng chấm là ngẫu nhiên\n",
    "\n",
    "fig, ax = plt.subplots()\n",
    "img1 = ax.scatter(x, y, s = size, c = colors, cmap = 'viridis', alpha = 0.36); #alpha: độ mờ của từng chấm\n",
    "\n",
    "fig.colorbar(img1)"
   ]
  },
  {
   "cell_type": "markdown",
   "id": "0e6ea23e-1c53-43a3-8bd1-dcb5116f97ef",
   "metadata": {},
   "source": [
    "### 3. Bar\n",
    "* Vertical\n",
    "* Horizontal"
   ]
  },
  {
   "cell_type": "code",
   "execution_count": 51,
   "id": "ff524d8c-ddf9-4329-9f4d-4c5275b98f36",
   "metadata": {},
   "outputs": [
    {
     "data": {
      "image/png": "[encoded data removed]",
      "text/plain": [
       "<Figure size 640x480 with 1 Axes>"
      ]
     },
     "metadata": {},
     "output_type": "display_data"
    }
   ],
   "source": [
    "#Prepare Data from a python dictionary\n",
    "car_brand_prices = {\"Porsche\": 10000,\n",
    "                    \"Ferrari\": 18000,\n",
    "                    \"Koenisegg\": 36000}\n",
    "fig, ax = plt.subplots()\n",
    "ax.bar(car_brand_prices.keys(), car_brand_prices.values());\n",
    "ax.set(title=\"The gioi oto's Car brand prices\", ylabel=\"Price ($)\");"
   ]
  },
  {
   "cell_type": "code",
   "execution_count": 52,
   "id": "72ee8f14-32d5-4168-9fb8-af21f8f25b41",
   "metadata": {},
   "outputs": [
    {
     "data": {
      "image/png": "[encoded data removed]",
      "text/plain": [
       "<Figure size 640x480 with 1 Axes>"
      ]
     },
     "metadata": {},
     "output_type": "display_data"
    }
   ],
   "source": [
    "fig, ax = plt.subplots()\n",
    "ax.barh(list(car_brand_prices.keys()), list(car_brand_prices.values()));"
   ]
  },
  {
   "cell_type": "markdown",
   "id": "2ba3aa04-313c-4e45-bd4d-4f2c82195a8f",
   "metadata": {},
   "source": [
    "### 4. Histogram"
   ]
  },
  {
   "cell_type": "code",
   "execution_count": 53,
   "id": "0e0fb9e5-1407-41a3-b10f-c6ac506a677d",
   "metadata": {},
   "outputs": [],
   "source": [
    "#Prepare data\n",
    "\n",
    "student_height = np.random.normal(170, 10, 250)\n"
   ]
  },
  {
   "cell_type": "code",
   "execution_count": 55,
   "id": "978385d1-800d-486f-91ab-0a6f84e2a08f",
   "metadata": {},
   "outputs": [
    {
     "data": {
      "text/plain": [
       "(array([174.19833085, 168.16852939, 171.52877204, 168.40794862,\n",
       "        189.59742516, 154.19080402, 161.19989776, 175.38611204,\n",
       "        172.2138747 , 175.71896207]),\n",
       " 250)"
      ]
     },
     "execution_count": 55,
     "metadata": {},
     "output_type": "execute_result"
    }
   ],
   "source": [
    "student_height[:10], len(student_height)"
   ]
  },
  {
   "cell_type": "code",
   "execution_count": 57,
   "id": "9fb192e9-0d1c-4440-90e8-bf1ffbe8e1d2",
   "metadata": {},
   "outputs": [
    {
     "data": {
      "image/png": "[encoded data removed]",
      "text/plain": [
       "<Figure size 640x480 with 1 Axes>"
      ]
     },
     "metadata": {},
     "output_type": "display_data"
    }
   ],
   "source": [
    "#pyplot API\n",
    "plt.hist(student_height, bins = 30);"
   ]
  },
  {
   "cell_type": "markdown",
   "id": "3258478e-b182-4c35-8b5c-e75e15c3367c",
   "metadata": {},
   "source": [
    "### Subplots"
   ]
  },
  {
   "cell_type": "code",
   "execution_count": 65,
   "id": "a0050099-ee0c-4b65-8e58-2eeaef725801",
   "metadata": {},
   "outputs": [
    {
     "data": {
      "image/png": "[encoded data removed]",
      "text/plain": [
       "<Figure size 800x400 with 4 Axes>"
      ]
     },
     "metadata": {},
     "output_type": "display_data"
    }
   ],
   "source": [
    "#Option 1: OO API\n",
    "fig, ((ax1, ax2), (ax3, ax4)) = plt.subplots(nrows = 2, ncols = 2, figsize = (10, 5))\n",
    "\n",
    "#Plot data to each axis\n",
    "ax1.plot(x, x/2);\n",
    "ax1.plot(x, x+2);\n",
    "\n",
    "ax2.scatter(np.random.random(10), np.random.random(10));\n",
    "\n",
    "ax3.bar(car_brand_prices.keys(), car_brand_prices.values());\n",
    "\n",
    "ax4.hist(student_height, bins = 30);"
   ]
  },
  {
   "cell_type": "code",
   "execution_count": 67,
   "id": "9c779092-b4b0-4823-b090-e95286621018",
   "metadata": {},
   "outputs": [
    {
     "data": {
      "image/png": "[encoded data removed]",
      "text/plain": [
       "<Figure size 800x400 with 4 Axes>"
      ]
     },
     "metadata": {},
     "output_type": "display_data"
    }
   ],
   "source": [
    "# Option 2:\n",
    "fig, ax = plt.subplots(nrows = 2, ncols = 2, figsize = (10, 5))\n",
    "\n",
    "#Plot data to each axis\n",
    "ax[0,0].plot(x, x/2);\n",
    "ax[0,0].plot(x, x+2);\n",
    "\n",
    "ax[0,1].scatter(np.random.random(10), np.random.random(10));\n",
    "\n",
    "ax[1,0].bar(car_brand_prices.keys(), car_brand_prices.values());\n",
    "\n",
    "ax[1,1].hist(student_height, bins = 30);"
   ]
  },
  {
   "cell_type": "code",
   "execution_count": null,
   "id": "16747bc0-cf06-4daf-8666-8589bd018f3e",
   "metadata": {},
   "outputs": [],
   "source": []
  }
 ],
 "metadata": {
  "kernelspec": {
   "display_name": "Python [conda env:base] *",
   "language": "python",
   "name": "conda-base-py"
  },
  "language_info": {
   "codemirror_mode": {
    "name": "ipython",
    "version": 3
   },
   "file_extension": ".py",
   "mimetype": "text/x-python",
   "name": "python",
   "nbconvert_exporter": "python",
   "pygments_lexer": "ipython3",
   "version": "3.13.5"
  }
 },
 "nbformat": 4,
 "nbformat_minor": 5
}
